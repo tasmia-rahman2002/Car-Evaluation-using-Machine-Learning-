{
  "cells": [
    {
      "cell_type": "code",
      "execution_count": 1,
      "metadata": {
        "id": "Nz5NWw5Sh91u"
      },
      "outputs": [],
      "source": [
        "import pandas as pd\n",
        "import numpy as np\n",
        "import pandas as pd\n",
        "import matplotlib.pyplot as plt\n",
        "from matplotlib import style\n",
        "import seaborn as sns\n",
        "from sklearn.impute import SimpleImputer\n",
        "from sklearn.preprocessing import LabelEncoder, MinMaxScaler, StandardScaler\n",
        "from sklearn.model_selection import train_test_split\n",
        "from sklearn.svm import SVC\n",
        "from sklearn.neighbors import KNeighborsClassifier\n",
        "from sklearn.tree import DecisionTreeClassifier\n",
        "from sklearn.neural_network import MLPClassifier\n",
        "from sklearn.metrics import accuracy_score\n",
        "from sklearn.ensemble import RandomForestClassifier, GradientBoostingClassifier\n",
        "from sklearn.metrics import confusion_matrix"
      ]
    },
    {
      "cell_type": "markdown",
      "metadata": {
        "id": "MB5kkzBnydDS"
      },
      "source": [
        "\n",
        "\n",
        "\n",
        "\n",
        "## Reading the Dataset and seeing datapoints"
      ]
    },
    {
      "cell_type": "code",
      "execution_count": null,
      "metadata": {
        "colab": {
          "base_uri": "https://localhost:8080/",
          "height": 206
        },
        "id": "t6DCJRXfiin-",
        "outputId": "ea9eea0f-2276-478a-c8b9-3a430fda9a11"
      },
      "outputs": [
        {
          "output_type": "execute_result",
          "data": {
            "text/plain": [
              "  buying  maint doors persons lug_boot safety class_labels\n",
              "0  vhigh  vhigh     2       2    small    low        unacc\n",
              "1  vhigh  vhigh     2       2    small    med        unacc\n",
              "2  vhigh  vhigh     2       2      med   high        unacc\n",
              "3  vhigh  vhigh     2       2      med    low        unacc\n",
              "4  vhigh  vhigh     2       2      med    med        unacc"
            ],
            "text/html": [
              "\n",
              "  <div id=\"df-c2567dfb-12c0-4888-9e34-d6d708f094f7\" class=\"colab-df-container\">\n",
              "    <div>\n",
              "<style scoped>\n",
              "    .dataframe tbody tr th:only-of-type {\n",
              "        vertical-align: middle;\n",
              "    }\n",
              "\n",
              "    .dataframe tbody tr th {\n",
              "        vertical-align: top;\n",
              "    }\n",
              "\n",
              "    .dataframe thead th {\n",
              "        text-align: right;\n",
              "    }\n",
              "</style>\n",
              "<table border=\"1\" class=\"dataframe\">\n",
              "  <thead>\n",
              "    <tr style=\"text-align: right;\">\n",
              "      <th></th>\n",
              "      <th>buying</th>\n",
              "      <th>maint</th>\n",
              "      <th>doors</th>\n",
              "      <th>persons</th>\n",
              "      <th>lug_boot</th>\n",
              "      <th>safety</th>\n",
              "      <th>class_labels</th>\n",
              "    </tr>\n",
              "  </thead>\n",
              "  <tbody>\n",
              "    <tr>\n",
              "      <th>0</th>\n",
              "      <td>vhigh</td>\n",
              "      <td>vhigh</td>\n",
              "      <td>2</td>\n",
              "      <td>2</td>\n",
              "      <td>small</td>\n",
              "      <td>low</td>\n",
              "      <td>unacc</td>\n",
              "    </tr>\n",
              "    <tr>\n",
              "      <th>1</th>\n",
              "      <td>vhigh</td>\n",
              "      <td>vhigh</td>\n",
              "      <td>2</td>\n",
              "      <td>2</td>\n",
              "      <td>small</td>\n",
              "      <td>med</td>\n",
              "      <td>unacc</td>\n",
              "    </tr>\n",
              "    <tr>\n",
              "      <th>2</th>\n",
              "      <td>vhigh</td>\n",
              "      <td>vhigh</td>\n",
              "      <td>2</td>\n",
              "      <td>2</td>\n",
              "      <td>med</td>\n",
              "      <td>high</td>\n",
              "      <td>unacc</td>\n",
              "    </tr>\n",
              "    <tr>\n",
              "      <th>3</th>\n",
              "      <td>vhigh</td>\n",
              "      <td>vhigh</td>\n",
              "      <td>2</td>\n",
              "      <td>2</td>\n",
              "      <td>med</td>\n",
              "      <td>low</td>\n",
              "      <td>unacc</td>\n",
              "    </tr>\n",
              "    <tr>\n",
              "      <th>4</th>\n",
              "      <td>vhigh</td>\n",
              "      <td>vhigh</td>\n",
              "      <td>2</td>\n",
              "      <td>2</td>\n",
              "      <td>med</td>\n",
              "      <td>med</td>\n",
              "      <td>unacc</td>\n",
              "    </tr>\n",
              "  </tbody>\n",
              "</table>\n",
              "</div>\n",
              "    <div class=\"colab-df-buttons\">\n",
              "\n",
              "  <div class=\"colab-df-container\">\n",
              "    <button class=\"colab-df-convert\" onclick=\"convertToInteractive('df-c2567dfb-12c0-4888-9e34-d6d708f094f7')\"\n",
              "            title=\"Convert this dataframe to an interactive table.\"\n",
              "            style=\"display:none;\">\n",
              "\n",
              "  <svg xmlns=\"http://www.w3.org/2000/svg\" height=\"24px\" viewBox=\"0 -960 960 960\">\n",
              "    <path d=\"M120-120v-720h720v720H120Zm60-500h600v-160H180v160Zm220 220h160v-160H400v160Zm0 220h160v-160H400v160ZM180-400h160v-160H180v160Zm440 0h160v-160H620v160ZM180-180h160v-160H180v160Zm440 0h160v-160H620v160Z\"/>\n",
              "  </svg>\n",
              "    </button>\n",
              "\n",
              "  <style>\n",
              "    .colab-df-container {\n",
              "      display:flex;\n",
              "      gap: 12px;\n",
              "    }\n",
              "\n",
              "    .colab-df-convert {\n",
              "      background-color: #E8F0FE;\n",
              "      border: none;\n",
              "      border-radius: 50%;\n",
              "      cursor: pointer;\n",
              "      display: none;\n",
              "      fill: #1967D2;\n",
              "      height: 32px;\n",
              "      padding: 0 0 0 0;\n",
              "      width: 32px;\n",
              "    }\n",
              "\n",
              "    .colab-df-convert:hover {\n",
              "      background-color: #E2EBFA;\n",
              "      box-shadow: 0px 1px 2px rgba(60, 64, 67, 0.3), 0px 1px 3px 1px rgba(60, 64, 67, 0.15);\n",
              "      fill: #174EA6;\n",
              "    }\n",
              "\n",
              "    .colab-df-buttons div {\n",
              "      margin-bottom: 4px;\n",
              "    }\n",
              "\n",
              "    [theme=dark] .colab-df-convert {\n",
              "      background-color: #3B4455;\n",
              "      fill: #D2E3FC;\n",
              "    }\n",
              "\n",
              "    [theme=dark] .colab-df-convert:hover {\n",
              "      background-color: #434B5C;\n",
              "      box-shadow: 0px 1px 3px 1px rgba(0, 0, 0, 0.15);\n",
              "      filter: drop-shadow(0px 1px 2px rgba(0, 0, 0, 0.3));\n",
              "      fill: #FFFFFF;\n",
              "    }\n",
              "  </style>\n",
              "\n",
              "    <script>\n",
              "      const buttonEl =\n",
              "        document.querySelector('#df-c2567dfb-12c0-4888-9e34-d6d708f094f7 button.colab-df-convert');\n",
              "      buttonEl.style.display =\n",
              "        google.colab.kernel.accessAllowed ? 'block' : 'none';\n",
              "\n",
              "      async function convertToInteractive(key) {\n",
              "        const element = document.querySelector('#df-c2567dfb-12c0-4888-9e34-d6d708f094f7');\n",
              "        const dataTable =\n",
              "          await google.colab.kernel.invokeFunction('convertToInteractive',\n",
              "                                                    [key], {});\n",
              "        if (!dataTable) return;\n",
              "\n",
              "        const docLinkHtml = 'Like what you see? Visit the ' +\n",
              "          '<a target=\"_blank\" href=https://colab.research.google.com/notebooks/data_table.ipynb>data table notebook</a>'\n",
              "          + ' to learn more about interactive tables.';\n",
              "        element.innerHTML = '';\n",
              "        dataTable['output_type'] = 'display_data';\n",
              "        await google.colab.output.renderOutput(dataTable, element);\n",
              "        const docLink = document.createElement('div');\n",
              "        docLink.innerHTML = docLinkHtml;\n",
              "        element.appendChild(docLink);\n",
              "      }\n",
              "    </script>\n",
              "  </div>\n",
              "\n",
              "\n",
              "<div id=\"df-081483ec-d0a5-4d8d-8fa9-6ae38a96f46e\">\n",
              "  <button class=\"colab-df-quickchart\" onclick=\"quickchart('df-081483ec-d0a5-4d8d-8fa9-6ae38a96f46e')\"\n",
              "            title=\"Suggest charts.\"\n",
              "            style=\"display:none;\">\n",
              "\n",
              "<svg xmlns=\"http://www.w3.org/2000/svg\" height=\"24px\"viewBox=\"0 0 24 24\"\n",
              "     width=\"24px\">\n",
              "    <g>\n",
              "        <path d=\"M19 3H5c-1.1 0-2 .9-2 2v14c0 1.1.9 2 2 2h14c1.1 0 2-.9 2-2V5c0-1.1-.9-2-2-2zM9 17H7v-7h2v7zm4 0h-2V7h2v10zm4 0h-2v-4h2v4z\"/>\n",
              "    </g>\n",
              "</svg>\n",
              "  </button>\n",
              "\n",
              "<style>\n",
              "  .colab-df-quickchart {\n",
              "    background-color: #E8F0FE;\n",
              "    border: none;\n",
              "    border-radius: 50%;\n",
              "    cursor: pointer;\n",
              "    display: none;\n",
              "    fill: #1967D2;\n",
              "    height: 32px;\n",
              "    padding: 0 0 0 0;\n",
              "    width: 32px;\n",
              "  }\n",
              "\n",
              "  .colab-df-quickchart:hover {\n",
              "    background-color: #E2EBFA;\n",
              "    box-shadow: 0px 1px 2px rgba(60, 64, 67, 0.3), 0px 1px 3px 1px rgba(60, 64, 67, 0.15);\n",
              "    fill: #174EA6;\n",
              "  }\n",
              "\n",
              "  [theme=dark] .colab-df-quickchart {\n",
              "    background-color: #3B4455;\n",
              "    fill: #D2E3FC;\n",
              "  }\n",
              "\n",
              "  [theme=dark] .colab-df-quickchart:hover {\n",
              "    background-color: #434B5C;\n",
              "    box-shadow: 0px 1px 3px 1px rgba(0, 0, 0, 0.15);\n",
              "    filter: drop-shadow(0px 1px 2px rgba(0, 0, 0, 0.3));\n",
              "    fill: #FFFFFF;\n",
              "  }\n",
              "</style>\n",
              "\n",
              "  <script>\n",
              "    async function quickchart(key) {\n",
              "      const charts = await google.colab.kernel.invokeFunction(\n",
              "          'suggestCharts', [key], {});\n",
              "    }\n",
              "    (() => {\n",
              "      let quickchartButtonEl =\n",
              "        document.querySelector('#df-081483ec-d0a5-4d8d-8fa9-6ae38a96f46e button');\n",
              "      quickchartButtonEl.style.display =\n",
              "        google.colab.kernel.accessAllowed ? 'block' : 'none';\n",
              "    })();\n",
              "  </script>\n",
              "</div>\n",
              "    </div>\n",
              "  </div>\n"
            ]
          },
          "metadata": {},
          "execution_count": 3
        }
      ],
      "source": [
        "# url = \"https://raw.githubusercontent.com/Ainzzzzzzz/X/main/Car-Evaluation.csv\"\n",
        "# car_df = pd.read_csv(url)\n",
        "car_df= pd.read_csv('/content/Car-Evaluation.csv')\n",
        "car_df.head()"
      ]
    },
    {
      "cell_type": "code",
      "execution_count": null,
      "metadata": {
        "colab": {
          "base_uri": "https://localhost:8080/"
        },
        "id": "Dv3iC78qjAd7",
        "outputId": "c73e953c-f31d-409c-a1f7-f6dc1557cd4a"
      },
      "outputs": [
        {
          "output_type": "execute_result",
          "data": {
            "text/plain": [
              "Index(['buying', 'maint', 'doors', 'persons', 'lug_boot', 'safety',\n",
              "       'class_labels'],\n",
              "      dtype='object')"
            ]
          },
          "metadata": {},
          "execution_count": 4
        }
      ],
      "source": [
        "car_df.columns"
      ]
    },
    {
      "cell_type": "code",
      "execution_count": null,
      "metadata": {
        "colab": {
          "base_uri": "https://localhost:8080/",
          "height": 192
        },
        "id": "_zYo5WGtj2Uf",
        "outputId": "922303d0-b9c3-4ae6-c162-c08e303c98e5"
      },
      "outputs": [
        {
          "output_type": "stream",
          "name": "stdout",
          "text": [
            "(2034, 7)\n"
          ]
        },
        {
          "output_type": "execute_result",
          "data": {
            "text/plain": [
              "       buying  maint doors persons lug_boot safety class_labels\n",
              "count    2028   2021  2027    2028     2030   2029         2032\n",
              "unique      4      4     4       3        3      3            4\n",
              "top       med  vhigh     3       4      med    low        unacc\n",
              "freq      622    550   526     684      678    679         1419"
            ],
            "text/html": [
              "\n",
              "  <div id=\"df-64a563ce-8666-469b-8e8f-775e17c311df\" class=\"colab-df-container\">\n",
              "    <div>\n",
              "<style scoped>\n",
              "    .dataframe tbody tr th:only-of-type {\n",
              "        vertical-align: middle;\n",
              "    }\n",
              "\n",
              "    .dataframe tbody tr th {\n",
              "        vertical-align: top;\n",
              "    }\n",
              "\n",
              "    .dataframe thead th {\n",
              "        text-align: right;\n",
              "    }\n",
              "</style>\n",
              "<table border=\"1\" class=\"dataframe\">\n",
              "  <thead>\n",
              "    <tr style=\"text-align: right;\">\n",
              "      <th></th>\n",
              "      <th>buying</th>\n",
              "      <th>maint</th>\n",
              "      <th>doors</th>\n",
              "      <th>persons</th>\n",
              "      <th>lug_boot</th>\n",
              "      <th>safety</th>\n",
              "      <th>class_labels</th>\n",
              "    </tr>\n",
              "  </thead>\n",
              "  <tbody>\n",
              "    <tr>\n",
              "      <th>count</th>\n",
              "      <td>2028</td>\n",
              "      <td>2021</td>\n",
              "      <td>2027</td>\n",
              "      <td>2028</td>\n",
              "      <td>2030</td>\n",
              "      <td>2029</td>\n",
              "      <td>2032</td>\n",
              "    </tr>\n",
              "    <tr>\n",
              "      <th>unique</th>\n",
              "      <td>4</td>\n",
              "      <td>4</td>\n",
              "      <td>4</td>\n",
              "      <td>3</td>\n",
              "      <td>3</td>\n",
              "      <td>3</td>\n",
              "      <td>4</td>\n",
              "    </tr>\n",
              "    <tr>\n",
              "      <th>top</th>\n",
              "      <td>med</td>\n",
              "      <td>vhigh</td>\n",
              "      <td>3</td>\n",
              "      <td>4</td>\n",
              "      <td>med</td>\n",
              "      <td>low</td>\n",
              "      <td>unacc</td>\n",
              "    </tr>\n",
              "    <tr>\n",
              "      <th>freq</th>\n",
              "      <td>622</td>\n",
              "      <td>550</td>\n",
              "      <td>526</td>\n",
              "      <td>684</td>\n",
              "      <td>678</td>\n",
              "      <td>679</td>\n",
              "      <td>1419</td>\n",
              "    </tr>\n",
              "  </tbody>\n",
              "</table>\n",
              "</div>\n",
              "    <div class=\"colab-df-buttons\">\n",
              "\n",
              "  <div class=\"colab-df-container\">\n",
              "    <button class=\"colab-df-convert\" onclick=\"convertToInteractive('df-64a563ce-8666-469b-8e8f-775e17c311df')\"\n",
              "            title=\"Convert this dataframe to an interactive table.\"\n",
              "            style=\"display:none;\">\n",
              "\n",
              "  <svg xmlns=\"http://www.w3.org/2000/svg\" height=\"24px\" viewBox=\"0 -960 960 960\">\n",
              "    <path d=\"M120-120v-720h720v720H120Zm60-500h600v-160H180v160Zm220 220h160v-160H400v160Zm0 220h160v-160H400v160ZM180-400h160v-160H180v160Zm440 0h160v-160H620v160ZM180-180h160v-160H180v160Zm440 0h160v-160H620v160Z\"/>\n",
              "  </svg>\n",
              "    </button>\n",
              "\n",
              "  <style>\n",
              "    .colab-df-container {\n",
              "      display:flex;\n",
              "      gap: 12px;\n",
              "    }\n",
              "\n",
              "    .colab-df-convert {\n",
              "      background-color: #E8F0FE;\n",
              "      border: none;\n",
              "      border-radius: 50%;\n",
              "      cursor: pointer;\n",
              "      display: none;\n",
              "      fill: #1967D2;\n",
              "      height: 32px;\n",
              "      padding: 0 0 0 0;\n",
              "      width: 32px;\n",
              "    }\n",
              "\n",
              "    .colab-df-convert:hover {\n",
              "      background-color: #E2EBFA;\n",
              "      box-shadow: 0px 1px 2px rgba(60, 64, 67, 0.3), 0px 1px 3px 1px rgba(60, 64, 67, 0.15);\n",
              "      fill: #174EA6;\n",
              "    }\n",
              "\n",
              "    .colab-df-buttons div {\n",
              "      margin-bottom: 4px;\n",
              "    }\n",
              "\n",
              "    [theme=dark] .colab-df-convert {\n",
              "      background-color: #3B4455;\n",
              "      fill: #D2E3FC;\n",
              "    }\n",
              "\n",
              "    [theme=dark] .colab-df-convert:hover {\n",
              "      background-color: #434B5C;\n",
              "      box-shadow: 0px 1px 3px 1px rgba(0, 0, 0, 0.15);\n",
              "      filter: drop-shadow(0px 1px 2px rgba(0, 0, 0, 0.3));\n",
              "      fill: #FFFFFF;\n",
              "    }\n",
              "  </style>\n",
              "\n",
              "    <script>\n",
              "      const buttonEl =\n",
              "        document.querySelector('#df-64a563ce-8666-469b-8e8f-775e17c311df button.colab-df-convert');\n",
              "      buttonEl.style.display =\n",
              "        google.colab.kernel.accessAllowed ? 'block' : 'none';\n",
              "\n",
              "      async function convertToInteractive(key) {\n",
              "        const element = document.querySelector('#df-64a563ce-8666-469b-8e8f-775e17c311df');\n",
              "        const dataTable =\n",
              "          await google.colab.kernel.invokeFunction('convertToInteractive',\n",
              "                                                    [key], {});\n",
              "        if (!dataTable) return;\n",
              "\n",
              "        const docLinkHtml = 'Like what you see? Visit the ' +\n",
              "          '<a target=\"_blank\" href=https://colab.research.google.com/notebooks/data_table.ipynb>data table notebook</a>'\n",
              "          + ' to learn more about interactive tables.';\n",
              "        element.innerHTML = '';\n",
              "        dataTable['output_type'] = 'display_data';\n",
              "        await google.colab.output.renderOutput(dataTable, element);\n",
              "        const docLink = document.createElement('div');\n",
              "        docLink.innerHTML = docLinkHtml;\n",
              "        element.appendChild(docLink);\n",
              "      }\n",
              "    </script>\n",
              "  </div>\n",
              "\n",
              "    </div>\n",
              "  </div>\n"
            ]
          },
          "metadata": {},
          "execution_count": 5
        }
      ],
      "source": [
        "#Checking Initial Dimension\n",
        "print(car_df.shape)\n",
        "car_df.describe()"
      ]
    },
    {
      "cell_type": "code",
      "execution_count": null,
      "metadata": {
        "colab": {
          "base_uri": "https://localhost:8080/"
        },
        "id": "kJibSMLFwIf6",
        "outputId": "45349394-14d4-43d7-f3b5-5494d7fc0d13"
      },
      "outputs": [
        {
          "output_type": "execute_result",
          "data": {
            "text/plain": [
              "unacc    1419\n",
              "acc       456\n",
              "good       84\n",
              "vgood      73\n",
              "Name: class_labels, dtype: int64"
            ]
          },
          "metadata": {},
          "execution_count": 6
        }
      ],
      "source": [
        "car_df['class_labels'].value_counts()"
      ]
    },
    {
      "cell_type": "code",
      "execution_count": null,
      "metadata": {
        "colab": {
          "base_uri": "https://localhost:8080/"
        },
        "id": "lKWv9KUWj-QZ",
        "outputId": "2a78b750-f7a9-465e-d020-b987966e6ba8"
      },
      "outputs": [
        {
          "output_type": "stream",
          "name": "stdout",
          "text": [
            "['vhigh' 'high' nan 'med' 'low']\n",
            "['vhigh' 'high' 'med' 'low' nan]\n",
            "['2' '3' '4' '5more' nan]\n",
            "['2' '4' 'more' nan]\n",
            "['small' 'med' 'big' nan]\n",
            "['low' 'med' 'high' nan]\n",
            "['unacc' 'acc' 'vgood' 'good' nan]\n"
          ]
        }
      ],
      "source": [
        "#printing unique values of the columns\n",
        "print(car_df[\"buying\"].unique())\n",
        "print(car_df[\"maint\"].unique())\n",
        "print(car_df[\"doors\"].unique())\n",
        "print(car_df[\"persons\"].unique())\n",
        "print(car_df[\"lug_boot\"].unique())\n",
        "print(car_df[\"safety\"].unique())\n",
        "print(car_df[\"class_labels\"].unique())"
      ]
    },
    {
      "cell_type": "code",
      "execution_count": null,
      "metadata": {
        "id": "Wrn2YmMd75Ir"
      },
      "outputs": [],
      "source": [
        "#Changing values to nan\n",
        "condition = car_df['buying'] == 'low'\n",
        "condition = car_df['safety'] == 'low'\n",
        "car_df.loc[condition,['buying','safety']] = np.nan"
      ]
    },
    {
      "cell_type": "code",
      "execution_count": null,
      "metadata": {
        "colab": {
          "base_uri": "https://localhost:8080/"
        },
        "id": "3PxB9xSqkXC3",
        "outputId": "276e1037-192d-4791-c1d9-899e8a5b1b07"
      },
      "outputs": [
        {
          "output_type": "execute_result",
          "data": {
            "text/plain": [
              "buying          683\n",
              "maint            13\n",
              "doors             7\n",
              "persons           6\n",
              "lug_boot          4\n",
              "safety          684\n",
              "class_labels      2\n",
              "dtype: int64"
            ]
          },
          "metadata": {},
          "execution_count": 9
        }
      ],
      "source": [
        "#checking how many nan values in total\n",
        "car_df.isnull().sum()"
      ]
    },
    {
      "cell_type": "code",
      "execution_count": null,
      "metadata": {
        "colab": {
          "base_uri": "https://localhost:8080/"
        },
        "id": "Mp1MKuCmkugf",
        "outputId": "f576d052-2002-4a10-8dcf-2925ac00b29a"
      },
      "outputs": [
        {
          "output_type": "execute_result",
          "data": {
            "text/plain": [
              "(1328, 7)"
            ]
          },
          "metadata": {},
          "execution_count": 10
        }
      ],
      "source": [
        "#drop\n",
        "car_df=car_df.dropna(axis=0,subset=['buying','maint','doors','persons','lug_boot','safety','class_labels'])\n",
        "car_df.shape"
      ]
    },
    {
      "cell_type": "code",
      "execution_count": null,
      "metadata": {
        "colab": {
          "base_uri": "https://localhost:8080/"
        },
        "id": "QA_XMs6_l50y",
        "outputId": "5db8f14e-689c-4507-f60d-434eb05b45b3"
      },
      "outputs": [
        {
          "output_type": "execute_result",
          "data": {
            "text/plain": [
              "buying          0\n",
              "maint           0\n",
              "doors           0\n",
              "persons         0\n",
              "lug_boot        0\n",
              "safety          0\n",
              "class_labels    0\n",
              "dtype: int64"
            ]
          },
          "metadata": {},
          "execution_count": 11
        }
      ],
      "source": [
        "car_df.isnull().sum()"
      ]
    },
    {
      "cell_type": "code",
      "execution_count": null,
      "metadata": {
        "id": "M6Vu7GNIl-eP"
      },
      "outputs": [],
      "source": [
        "car_df[\"doors\"]= car_df[\"doors\"].replace({\"2\":\"two\", \"3\":\"three\",\"4\":\"four\",\"5more\":\"five or more\"})\n",
        "car_df[\"persons\"]= car_df[\"persons\"].replace({\"2\":\"two\", \"4\":\"four\",\"more\":\"more\"})"
      ]
    },
    {
      "cell_type": "code",
      "execution_count": null,
      "metadata": {
        "id": "zGOuK1JdmtBN"
      },
      "outputs": [],
      "source": [
        "#Encoding\n",
        "car_df[\"buying\"] = car_df[\"buying\"].map({\"vhigh\": 2,\"high\":3,\"med\": 1})\n",
        "car_df[\"maint\"] = car_df[\"maint\"].map({\"low\": 0, \"med\": 1, \"high\": 2,\"vhigh\":3})\n",
        "car_df[\"doors\"] = car_df[\"doors\"].map({\"two\":2,\"three\":3, \"four\": 4,\"five or more\": 0})\n",
        "car_df[\"persons\"] = car_df[\"persons\"].map({\"two\": 2, \"four\": 4, \"more\": 5 })\n",
        "car_df[\"lug_boot\"] = car_df[\"lug_boot\"].map({\"med\": 1, \"small\": 0, \"big\": 2})\n",
        "car_df[\"safety\"] = car_df[\"safety\"].map({\"high\": 2,\"med\":1})\n",
        "car_df[\"class_labels\"] = car_df[\"class_labels\"].map({\"vgood\": 4, \"good\": 3, \"acc\": 2, \"unacc\":0})"
      ]
    },
    {
      "cell_type": "markdown",
      "metadata": {
        "id": "dyMnoN6NkdBw"
      },
      "source": [
        "# Exploring the dataset's rows and columns"
      ]
    },
    {
      "cell_type": "code",
      "execution_count": null,
      "metadata": {
        "colab": {
          "base_uri": "https://localhost:8080/",
          "height": 520
        },
        "id": "UNvKRQbMpr_r",
        "outputId": "869b6457-d658-4ac1-c49c-ee08c9e65873"
      },
      "outputs": [
        {
          "output_type": "execute_result",
          "data": {
            "text/plain": [
              "    buying  maint  doors  persons  lug_boot  safety  class_labels\n",
              "1      2.0      3      2        2         0       1             0\n",
              "2      2.0      3      2        2         1       2             0\n",
              "4      2.0      3      2        2         1       1             0\n",
              "5      2.0      3      2        2         1       2             0\n",
              "7      2.0      3      2        2         2       1             0\n",
              "8      2.0      3      2        2         2       2             0\n",
              "10     2.0      3      2        4         0       1             0\n",
              "11     2.0      3      2        4         0       2             0\n",
              "13     2.0      3      2        4         1       1             0\n",
              "14     2.0      3      2        4         1       2             0\n",
              "16     2.0      3      2        4         2       1             0\n",
              "17     2.0      3      2        4         2       2             0\n",
              "19     2.0      3      2        5         0       1             0\n",
              "20     2.0      3      2        5         0       2             0\n",
              "22     2.0      3      2        5         1       1             0"
            ],
            "text/html": [
              "\n",
              "  <div id=\"df-bff297f7-f69a-4224-86af-4951681d235f\" class=\"colab-df-container\">\n",
              "    <div>\n",
              "<style scoped>\n",
              "    .dataframe tbody tr th:only-of-type {\n",
              "        vertical-align: middle;\n",
              "    }\n",
              "\n",
              "    .dataframe tbody tr th {\n",
              "        vertical-align: top;\n",
              "    }\n",
              "\n",
              "    .dataframe thead th {\n",
              "        text-align: right;\n",
              "    }\n",
              "</style>\n",
              "<table border=\"1\" class=\"dataframe\">\n",
              "  <thead>\n",
              "    <tr style=\"text-align: right;\">\n",
              "      <th></th>\n",
              "      <th>buying</th>\n",
              "      <th>maint</th>\n",
              "      <th>doors</th>\n",
              "      <th>persons</th>\n",
              "      <th>lug_boot</th>\n",
              "      <th>safety</th>\n",
              "      <th>class_labels</th>\n",
              "    </tr>\n",
              "  </thead>\n",
              "  <tbody>\n",
              "    <tr>\n",
              "      <th>1</th>\n",
              "      <td>2.0</td>\n",
              "      <td>3</td>\n",
              "      <td>2</td>\n",
              "      <td>2</td>\n",
              "      <td>0</td>\n",
              "      <td>1</td>\n",
              "      <td>0</td>\n",
              "    </tr>\n",
              "    <tr>\n",
              "      <th>2</th>\n",
              "      <td>2.0</td>\n",
              "      <td>3</td>\n",
              "      <td>2</td>\n",
              "      <td>2</td>\n",
              "      <td>1</td>\n",
              "      <td>2</td>\n",
              "      <td>0</td>\n",
              "    </tr>\n",
              "    <tr>\n",
              "      <th>4</th>\n",
              "      <td>2.0</td>\n",
              "      <td>3</td>\n",
              "      <td>2</td>\n",
              "      <td>2</td>\n",
              "      <td>1</td>\n",
              "      <td>1</td>\n",
              "      <td>0</td>\n",
              "    </tr>\n",
              "    <tr>\n",
              "      <th>5</th>\n",
              "      <td>2.0</td>\n",
              "      <td>3</td>\n",
              "      <td>2</td>\n",
              "      <td>2</td>\n",
              "      <td>1</td>\n",
              "      <td>2</td>\n",
              "      <td>0</td>\n",
              "    </tr>\n",
              "    <tr>\n",
              "      <th>7</th>\n",
              "      <td>2.0</td>\n",
              "      <td>3</td>\n",
              "      <td>2</td>\n",
              "      <td>2</td>\n",
              "      <td>2</td>\n",
              "      <td>1</td>\n",
              "      <td>0</td>\n",
              "    </tr>\n",
              "    <tr>\n",
              "      <th>8</th>\n",
              "      <td>2.0</td>\n",
              "      <td>3</td>\n",
              "      <td>2</td>\n",
              "      <td>2</td>\n",
              "      <td>2</td>\n",
              "      <td>2</td>\n",
              "      <td>0</td>\n",
              "    </tr>\n",
              "    <tr>\n",
              "      <th>10</th>\n",
              "      <td>2.0</td>\n",
              "      <td>3</td>\n",
              "      <td>2</td>\n",
              "      <td>4</td>\n",
              "      <td>0</td>\n",
              "      <td>1</td>\n",
              "      <td>0</td>\n",
              "    </tr>\n",
              "    <tr>\n",
              "      <th>11</th>\n",
              "      <td>2.0</td>\n",
              "      <td>3</td>\n",
              "      <td>2</td>\n",
              "      <td>4</td>\n",
              "      <td>0</td>\n",
              "      <td>2</td>\n",
              "      <td>0</td>\n",
              "    </tr>\n",
              "    <tr>\n",
              "      <th>13</th>\n",
              "      <td>2.0</td>\n",
              "      <td>3</td>\n",
              "      <td>2</td>\n",
              "      <td>4</td>\n",
              "      <td>1</td>\n",
              "      <td>1</td>\n",
              "      <td>0</td>\n",
              "    </tr>\n",
              "    <tr>\n",
              "      <th>14</th>\n",
              "      <td>2.0</td>\n",
              "      <td>3</td>\n",
              "      <td>2</td>\n",
              "      <td>4</td>\n",
              "      <td>1</td>\n",
              "      <td>2</td>\n",
              "      <td>0</td>\n",
              "    </tr>\n",
              "    <tr>\n",
              "      <th>16</th>\n",
              "      <td>2.0</td>\n",
              "      <td>3</td>\n",
              "      <td>2</td>\n",
              "      <td>4</td>\n",
              "      <td>2</td>\n",
              "      <td>1</td>\n",
              "      <td>0</td>\n",
              "    </tr>\n",
              "    <tr>\n",
              "      <th>17</th>\n",
              "      <td>2.0</td>\n",
              "      <td>3</td>\n",
              "      <td>2</td>\n",
              "      <td>4</td>\n",
              "      <td>2</td>\n",
              "      <td>2</td>\n",
              "      <td>0</td>\n",
              "    </tr>\n",
              "    <tr>\n",
              "      <th>19</th>\n",
              "      <td>2.0</td>\n",
              "      <td>3</td>\n",
              "      <td>2</td>\n",
              "      <td>5</td>\n",
              "      <td>0</td>\n",
              "      <td>1</td>\n",
              "      <td>0</td>\n",
              "    </tr>\n",
              "    <tr>\n",
              "      <th>20</th>\n",
              "      <td>2.0</td>\n",
              "      <td>3</td>\n",
              "      <td>2</td>\n",
              "      <td>5</td>\n",
              "      <td>0</td>\n",
              "      <td>2</td>\n",
              "      <td>0</td>\n",
              "    </tr>\n",
              "    <tr>\n",
              "      <th>22</th>\n",
              "      <td>2.0</td>\n",
              "      <td>3</td>\n",
              "      <td>2</td>\n",
              "      <td>5</td>\n",
              "      <td>1</td>\n",
              "      <td>1</td>\n",
              "      <td>0</td>\n",
              "    </tr>\n",
              "  </tbody>\n",
              "</table>\n",
              "</div>\n",
              "    <div class=\"colab-df-buttons\">\n",
              "\n",
              "  <div class=\"colab-df-container\">\n",
              "    <button class=\"colab-df-convert\" onclick=\"convertToInteractive('df-bff297f7-f69a-4224-86af-4951681d235f')\"\n",
              "            title=\"Convert this dataframe to an interactive table.\"\n",
              "            style=\"display:none;\">\n",
              "\n",
              "  <svg xmlns=\"http://www.w3.org/2000/svg\" height=\"24px\" viewBox=\"0 -960 960 960\">\n",
              "    <path d=\"M120-120v-720h720v720H120Zm60-500h600v-160H180v160Zm220 220h160v-160H400v160Zm0 220h160v-160H400v160ZM180-400h160v-160H180v160Zm440 0h160v-160H620v160ZM180-180h160v-160H180v160Zm440 0h160v-160H620v160Z\"/>\n",
              "  </svg>\n",
              "    </button>\n",
              "\n",
              "  <style>\n",
              "    .colab-df-container {\n",
              "      display:flex;\n",
              "      gap: 12px;\n",
              "    }\n",
              "\n",
              "    .colab-df-convert {\n",
              "      background-color: #E8F0FE;\n",
              "      border: none;\n",
              "      border-radius: 50%;\n",
              "      cursor: pointer;\n",
              "      display: none;\n",
              "      fill: #1967D2;\n",
              "      height: 32px;\n",
              "      padding: 0 0 0 0;\n",
              "      width: 32px;\n",
              "    }\n",
              "\n",
              "    .colab-df-convert:hover {\n",
              "      background-color: #E2EBFA;\n",
              "      box-shadow: 0px 1px 2px rgba(60, 64, 67, 0.3), 0px 1px 3px 1px rgba(60, 64, 67, 0.15);\n",
              "      fill: #174EA6;\n",
              "    }\n",
              "\n",
              "    .colab-df-buttons div {\n",
              "      margin-bottom: 4px;\n",
              "    }\n",
              "\n",
              "    [theme=dark] .colab-df-convert {\n",
              "      background-color: #3B4455;\n",
              "      fill: #D2E3FC;\n",
              "    }\n",
              "\n",
              "    [theme=dark] .colab-df-convert:hover {\n",
              "      background-color: #434B5C;\n",
              "      box-shadow: 0px 1px 3px 1px rgba(0, 0, 0, 0.15);\n",
              "      filter: drop-shadow(0px 1px 2px rgba(0, 0, 0, 0.3));\n",
              "      fill: #FFFFFF;\n",
              "    }\n",
              "  </style>\n",
              "\n",
              "    <script>\n",
              "      const buttonEl =\n",
              "        document.querySelector('#df-bff297f7-f69a-4224-86af-4951681d235f button.colab-df-convert');\n",
              "      buttonEl.style.display =\n",
              "        google.colab.kernel.accessAllowed ? 'block' : 'none';\n",
              "\n",
              "      async function convertToInteractive(key) {\n",
              "        const element = document.querySelector('#df-bff297f7-f69a-4224-86af-4951681d235f');\n",
              "        const dataTable =\n",
              "          await google.colab.kernel.invokeFunction('convertToInteractive',\n",
              "                                                    [key], {});\n",
              "        if (!dataTable) return;\n",
              "\n",
              "        const docLinkHtml = 'Like what you see? Visit the ' +\n",
              "          '<a target=\"_blank\" href=https://colab.research.google.com/notebooks/data_table.ipynb>data table notebook</a>'\n",
              "          + ' to learn more about interactive tables.';\n",
              "        element.innerHTML = '';\n",
              "        dataTable['output_type'] = 'display_data';\n",
              "        await google.colab.output.renderOutput(dataTable, element);\n",
              "        const docLink = document.createElement('div');\n",
              "        docLink.innerHTML = docLinkHtml;\n",
              "        element.appendChild(docLink);\n",
              "      }\n",
              "    </script>\n",
              "  </div>\n",
              "\n",
              "\n",
              "<div id=\"df-35f8d574-ef13-474b-a0d7-9a89fdbfecbf\">\n",
              "  <button class=\"colab-df-quickchart\" onclick=\"quickchart('df-35f8d574-ef13-474b-a0d7-9a89fdbfecbf')\"\n",
              "            title=\"Suggest charts.\"\n",
              "            style=\"display:none;\">\n",
              "\n",
              "<svg xmlns=\"http://www.w3.org/2000/svg\" height=\"24px\"viewBox=\"0 0 24 24\"\n",
              "     width=\"24px\">\n",
              "    <g>\n",
              "        <path d=\"M19 3H5c-1.1 0-2 .9-2 2v14c0 1.1.9 2 2 2h14c1.1 0 2-.9 2-2V5c0-1.1-.9-2-2-2zM9 17H7v-7h2v7zm4 0h-2V7h2v10zm4 0h-2v-4h2v4z\"/>\n",
              "    </g>\n",
              "</svg>\n",
              "  </button>\n",
              "\n",
              "<style>\n",
              "  .colab-df-quickchart {\n",
              "    background-color: #E8F0FE;\n",
              "    border: none;\n",
              "    border-radius: 50%;\n",
              "    cursor: pointer;\n",
              "    display: none;\n",
              "    fill: #1967D2;\n",
              "    height: 32px;\n",
              "    padding: 0 0 0 0;\n",
              "    width: 32px;\n",
              "  }\n",
              "\n",
              "  .colab-df-quickchart:hover {\n",
              "    background-color: #E2EBFA;\n",
              "    box-shadow: 0px 1px 2px rgba(60, 64, 67, 0.3), 0px 1px 3px 1px rgba(60, 64, 67, 0.15);\n",
              "    fill: #174EA6;\n",
              "  }\n",
              "\n",
              "  [theme=dark] .colab-df-quickchart {\n",
              "    background-color: #3B4455;\n",
              "    fill: #D2E3FC;\n",
              "  }\n",
              "\n",
              "  [theme=dark] .colab-df-quickchart:hover {\n",
              "    background-color: #434B5C;\n",
              "    box-shadow: 0px 1px 3px 1px rgba(0, 0, 0, 0.15);\n",
              "    filter: drop-shadow(0px 1px 2px rgba(0, 0, 0, 0.3));\n",
              "    fill: #FFFFFF;\n",
              "  }\n",
              "</style>\n",
              "\n",
              "  <script>\n",
              "    async function quickchart(key) {\n",
              "      const charts = await google.colab.kernel.invokeFunction(\n",
              "          'suggestCharts', [key], {});\n",
              "    }\n",
              "    (() => {\n",
              "      let quickchartButtonEl =\n",
              "        document.querySelector('#df-35f8d574-ef13-474b-a0d7-9a89fdbfecbf button');\n",
              "      quickchartButtonEl.style.display =\n",
              "        google.colab.kernel.accessAllowed ? 'block' : 'none';\n",
              "    })();\n",
              "  </script>\n",
              "</div>\n",
              "    </div>\n",
              "  </div>\n"
            ]
          },
          "metadata": {},
          "execution_count": 14
        }
      ],
      "source": [
        "car_df.head(15)"
      ]
    },
    {
      "cell_type": "markdown",
      "source": [
        "#Feature Scalling\n"
      ],
      "metadata": {
        "id": "g9vL1vgUAi91"
      }
    },
    {
      "cell_type": "code",
      "execution_count": null,
      "metadata": {
        "id": "MSdPrTeSrGsR"
      },
      "outputs": [],
      "source": [
        "# Selecting specific columns as featuresP\n",
        "features = car_df[['buying', 'maint','doors','persons','lug_boot','safety','class_labels']]\n",
        "\n",
        "# Perform one-hot encoding on the categorical columns\n",
        "features_encoded = pd.get_dummies(features)\n",
        "\n",
        "# Min-Max Scaling\n",
        "min_max_scaler = MinMaxScaler()\n",
        "data_scaled_minmax = min_max_scaler.fit_transform(features_encoded)\n",
        "\n",
        "# Standardization\n",
        "standard_scaler = StandardScaler()\n",
        "data_scaled_standard = standard_scaler.fit_transform(features_encoded)"
      ]
    },
    {
      "cell_type": "code",
      "source": [
        "# Calculating Frequencies to Determine Data Balance\n",
        "columns = ['buying', 'maint', 'doors', 'persons', 'lug_boot', 'safety']\n",
        "for col in columns:\n",
        "  print (car_df[col].value_counts(), end= '\\n\\n')"
      ],
      "metadata": {
        "id": "7XuGalISwDLH",
        "colab": {
          "base_uri": "https://localhost:8080/"
        },
        "outputId": "38b783e8-17a4-4293-ace8-8e373d190037"
      },
      "execution_count": null,
      "outputs": [
        {
          "output_type": "stream",
          "name": "stdout",
          "text": [
            "1.0    406\n",
            "2.0    319\n",
            "3.0    286\n",
            "Name: buying, dtype: int64\n",
            "\n",
            "3    363\n",
            "2    362\n",
            "1    305\n",
            "0    298\n",
            "Name: maint, dtype: int64\n",
            "\n",
            "3    344\n",
            "2    331\n",
            "0    329\n",
            "4    324\n",
            "Name: doors, dtype: int64\n",
            "\n",
            "4    448\n",
            "5    445\n",
            "2    435\n",
            "Name: persons, dtype: int64\n",
            "\n",
            "1    447\n",
            "0    442\n",
            "2    439\n",
            "Name: lug_boot, dtype: int64\n",
            "\n",
            "2    669\n",
            "1    659\n",
            "Name: safety, dtype: int64\n",
            "\n"
          ]
        }
      ]
    },
    {
      "cell_type": "code",
      "source": [
        "# checking balance in target\n",
        "car_df['class_labels'].value_counts()"
      ],
      "metadata": {
        "colab": {
          "base_uri": "https://localhost:8080/"
        },
        "id": "BvtXTp0ubFGR",
        "outputId": "2e999e44-9fe4-4d47-d552-3ac1a85aefff"
      },
      "execution_count": null,
      "outputs": [
        {
          "output_type": "execute_result",
          "data": {
            "text/plain": [
              "0    730\n",
              "2    449\n",
              "3     77\n",
              "4     72\n",
              "Name: class_labels, dtype: int64"
            ]
          },
          "metadata": {},
          "execution_count": 19
        }
      ]
    },
    {
      "cell_type": "markdown",
      "source": [
        "# Data visualization"
      ],
      "metadata": {
        "id": "DWhV5sP8wCeU"
      }
    },
    {
      "cell_type": "code",
      "source": [
        "plt.figure (figsize = (10,8))\n",
        "for i,col in enumerate (columns[:-1]):\n",
        "  plt.subplot( 3,2, i+1)\n",
        "  sns.countplot(car_df, x = col, hue= 'class_labels')\n",
        "\n",
        "plt.tight_layout()\n",
        "plt.show"
      ],
      "metadata": {
        "id": "qwVnSgsnv8_z",
        "colab": {
          "base_uri": "https://localhost:8080/",
          "height": 824
        },
        "outputId": "f0c4c290-883e-4c17-d16a-9d50f41bdef2"
      },
      "execution_count": null,
      "outputs": [
        {
          "output_type": "execute_result",
          "data": {
            "text/plain": [
              "<function matplotlib.pyplot.show(close=None, block=None)>"
            ]
          },
          "metadata": {},
          "execution_count": 18
        },
        {
          "output_type": "display_data",
          "data": {
            "text/plain": [
              "<Figure size 1000x800 with 5 Axes>"
            ],
            "image/png": "[encoded data removed]"
          },
          "metadata": {}
        }
      ]
    },
    {
      "cell_type": "code",
      "source": [
        "import seaborn as sns\n",
        "correlation=car_df.corr()\n",
        "fig, ax = plt.subplots(figsize=(8, 8))\n",
        "sns.heatmap(correlation,cmap='coolwarm')\n",
        "plt.show()"
      ],
      "metadata": {
        "id": "nP7CVb7nwHqL",
        "colab": {
          "base_uri": "https://localhost:8080/",
          "height": 682
        },
        "outputId": "13438b38-8932-40de-c4fa-6ac7fa79b3c1"
      },
      "execution_count": null,
      "outputs": [
        {
          "output_type": "display_data",
          "data": {
            "text/plain": [
              "<Figure size 800x800 with 2 Axes>"
            ],
            "image/png": "[encoded data removed]"
          },
          "metadata": {}
        }
      ]
    },
    {
      "cell_type": "markdown",
      "source": [
        "#Data Splitting\n"
      ],
      "metadata": {
        "id": "Co42tMHJBoGy"
      }
    },
    {
      "cell_type": "code",
      "source": [
        "X = car_df.iloc[:,:-1]\n",
        "Y = car_df.iloc[:,-1]"
      ],
      "metadata": {
        "id": "B3XUMp7RcZFP"
      },
      "execution_count": null,
      "outputs": []
    },
    {
      "cell_type": "code",
      "source": [
        "Y.isnull().sum()\n",
        "X.isnull().sum()"
      ],
      "metadata": {
        "colab": {
          "base_uri": "https://localhost:8080/"
        },
        "id": "53KtEr3mhmQX",
        "outputId": "dc4e073b-2abf-4f61-9f8e-a31966571b1f"
      },
      "execution_count": null,
      "outputs": [
        {
          "output_type": "execute_result",
          "data": {
            "text/plain": [
              "buying      317\n",
              "maint         0\n",
              "doors         0\n",
              "persons       0\n",
              "lug_boot      0\n",
              "safety        0\n",
              "dtype: int64"
            ]
          },
          "metadata": {},
          "execution_count": 22
        }
      ]
    },
    {
      "cell_type": "code",
      "source": [
        "car_df.dropna(subset=['buying'], inplace=True)"
      ],
      "metadata": {
        "id": "ue1K37Ixkz57"
      },
      "execution_count": null,
      "outputs": []
    },
    {
      "cell_type": "code",
      "source": [
        "X_train, X_test, Y_train, Y_test = train_test_split(car_df[[\"buying\",\"maint\",\"doors\",\"persons\",\"lug_boot\",\"safety\"]],\n",
        "                                                    car_df[\"class_labels\"],\n",
        "                                                    test_size = 0.20,\n",
        "                                                    random_state = 1)"
      ],
      "metadata": {
        "id": "d_7HDTrvwTxS"
      },
      "execution_count": null,
      "outputs": []
    },
    {
      "cell_type": "markdown",
      "source": [
        "#SVM\n"
      ],
      "metadata": {
        "id": "EnV9RgM0B6bA"
      }
    },
    {
      "cell_type": "code",
      "source": [
        "svm_model = SVC()\n",
        "svm_model.fit(X_train, Y_train)\n",
        "svm_pred = svm_model.predict(X_test)\n",
        "\n",
        "count=0\n",
        "for i in range(len(Y_test)):\n",
        "  if list(svm_pred)[i]!= list(Y_test)[i]:\n",
        "    count =count+1\n",
        "svm_error= count/len(list(svm_pred))\n",
        "print(f\"SVM Error: {svm_error:.2f}\")\n",
        "\n",
        "svm_accuracy = accuracy_score(Y_test, svm_pred)\n",
        "print(f\"SVM Accuracy: {svm_accuracy:.2f}\")"
      ],
      "metadata": {
        "id": "LgqYm5DGaEH1",
        "colab": {
          "base_uri": "https://localhost:8080/"
        },
        "outputId": "af24fb8d-7480-451a-ae36-12490dfffbdd"
      },
      "execution_count": null,
      "outputs": [
        {
          "output_type": "stream",
          "name": "stdout",
          "text": [
            "SVM Error: 0.16\n",
            "SVM Accuracy: 0.84\n"
          ]
        }
      ]
    },
    {
      "cell_type": "markdown",
      "source": [
        "#KNN\n"
      ],
      "metadata": {
        "id": "EyXp2mnTB-Qm"
      }
    },
    {
      "cell_type": "code",
      "source": [
        "knn_model = KNeighborsClassifier(n_neighbors=8)\n",
        "knn_model.fit(X_train, Y_train)\n",
        "knn_pred = knn_model.predict(X_test)\n",
        "\n",
        "count=0\n",
        "for i in range(len(Y_test)):\n",
        "  if list(knn_pred)[i]!= list(Y_test)[i]:\n",
        "    count =count+1\n",
        "knn_error= count/len(list(svm_pred))\n",
        "print(f\"KNN Error: {knn_error:.2f}\")\n",
        "\n",
        "knn_accuracy = accuracy_score(Y_test, knn_pred)\n",
        "print(f\"KNN Accuracy: {knn_accuracy:.2f}\")"
      ],
      "metadata": {
        "id": "RcwKtujxweYT",
        "colab": {
          "base_uri": "https://localhost:8080/"
        },
        "outputId": "dce0cf68-f479-4f22-8848-9a479c080ac8"
      },
      "execution_count": null,
      "outputs": [
        {
          "output_type": "stream",
          "name": "stdout",
          "text": [
            "KNN Error: 0.06\n",
            "KNN Accuracy: 0.94\n"
          ]
        }
      ]
    },
    {
      "cell_type": "markdown",
      "source": [
        "#Multi-Layer Perception\n"
      ],
      "metadata": {
        "id": "PxVGzqTRCBAh"
      }
    },
    {
      "cell_type": "code",
      "source": [
        "mlp_model = MLPClassifier(max_iter=20000)\n",
        "mlp_model.fit(X_train, Y_train)\n",
        "mlp_pred = mlp_model.predict(X_test)\n",
        "\n",
        "count=0\n",
        "for i in range(len(Y_test)):\n",
        "  if list(mlp_pred)[i]!= list(Y_test)[i]:\n",
        "    count =count+1\n",
        "mlp_error= count/len(list(mlp_pred))\n",
        "print(f\"Multi-Layer perception Error: {mlp_error:.2f}\")\n",
        "\n",
        "mlp_accuracy = accuracy_score(Y_test, mlp_pred)\n",
        "print(f\"Multi-Layer perception Accuracy: {mlp_accuracy:.2f}\")"
      ],
      "metadata": {
        "id": "QwGmRDyTrSNo",
        "outputId": "df4da453-d112-48f9-fb8c-fbf949b081bb",
        "colab": {
          "base_uri": "https://localhost:8080/"
        }
      },
      "execution_count": null,
      "outputs": [
        {
          "output_type": "stream",
          "name": "stdout",
          "text": [
            "Multi-Layer perception Error: 0.11\n",
            "Multi-Layer perception Accuracy: 0.89\n"
          ]
        }
      ]
    },
    {
      "cell_type": "markdown",
      "source": [
        "#Decision Tree\n"
      ],
      "metadata": {
        "id": "ei5nKa7SCFrG"
      }
    },
    {
      "cell_type": "code",
      "source": [
        "dt_model = DecisionTreeClassifier(random_state=45)\n",
        "dt_model.fit(X_train, Y_train)\n",
        "dt_pred = dt_model.predict(X_test)\n",
        "\n",
        "count=0\n",
        "for i in range(len(Y_test)):\n",
        "  if list(dt_pred)[i]!= list(Y_test)[i]:\n",
        "    count =count+1\n",
        "dt_error= count/len(list(dt_pred))\n",
        "print(f\"Decision Tree Error: {dt_error:.2f}\")\n",
        "\n",
        "dt_accuracy = accuracy_score(Y_test, dt_pred)\n",
        "print(f\"Decision Tree Accuracy: {dt_accuracy:.2f}\")"
      ],
      "metadata": {
        "colab": {
          "base_uri": "https://localhost:8080/"
        },
        "id": "BfufO3mQw70K",
        "outputId": "85803f80-d24e-4b89-ef67-45ac1ef01103"
      },
      "execution_count": null,
      "outputs": [
        {
          "output_type": "stream",
          "name": "stdout",
          "text": [
            "Decision Tree Error: 0.02\n",
            "Decision Tree Accuracy: 0.98\n"
          ]
        }
      ]
    },
    {
      "cell_type": "markdown",
      "source": [
        "#Comparison Analysis\n"
      ],
      "metadata": {
        "id": "tyPhxCCSCRL1"
      }
    },
    {
      "cell_type": "code",
      "source": [
        "models = ['SVM', 'KNN',  'Multi-Layer Perception','Decision Tree']\n",
        "accuracies = (svm_accuracy, knn_accuracy, mlp_accuracy,dt_accuracy)\n",
        "errors = (svm_error,knn_error, mlp_error, dt_error)\n",
        "models_pos = np.arange(len(models))\n",
        "style.use('ggplot')\n",
        "plt.figure(figsize=(8,4))\n",
        "barWidth = 0.3\n",
        "plt.bar(models_pos, accuracies, color='blue', width = barWidth, label='Accuracy')\n",
        "plt.bar(models_pos+0.2, errors, color='red', width = barWidth, label='Error')\n",
        "plt.xlabel('Model training')\n",
        "plt.title('ML models Accuracy vs Error')\n",
        "plt.xticks(models_pos, models)\n",
        "plt.legend()"
      ],
      "metadata": {
        "id": "RZ5qudIAwhTr",
        "colab": {
          "base_uri": "https://localhost:8080/",
          "height": 432
        },
        "outputId": "bd362252-722f-44c6-d15e-e34a07051f4c"
      },
      "execution_count": null,
      "outputs": [
        {
          "output_type": "execute_result",
          "data": {
            "text/plain": [
              "<matplotlib.legend.Legend at 0x7a4b7b57b790>"
            ]
          },
          "metadata": {},
          "execution_count": 29
        },
        {
          "output_type": "display_data",
          "data": {
            "text/plain": [
              "<Figure size 800x400 with 1 Axes>"
            ],
            "image/png": "[encoded data removed]"
          },
          "metadata": {}
        }
      ]
    },
    {
      "cell_type": "markdown",
      "source": [
        "#Confusion Matrix\n"
      ],
      "metadata": {
        "id": "wy02PtfCCUv3"
      }
    },
    {
      "cell_type": "code",
      "source": [
        "names=[\"SVM Model\",\"KNN Model\",\"Multi-Layer Perception Model\",\"Decision tree Model\"]\n",
        "models = ['SVM', 'KNN',  'Multi-Layer Perception', 'Decision Tree']\n",
        "y_pred=(svm_pred,knn_pred,mlp_pred,dt_pred)\n",
        "for name,y_pred_model in zip(names,y_pred):\n",
        "    cm = confusion_matrix(Y_test, y_pred_model)\n",
        "    ax = plt.subplot()\n",
        "    sns.heatmap(cm, annot=True, ax=ax, cmap='crest', fmt='g')\n",
        "    ax.set_xlabel('Predicted labels')\n",
        "    ax.set_ylabel('True labels')\n",
        "    ax.set_title(name + ' Confusion Matrix')\n",
        "    plt.show()"
      ],
      "metadata": {
        "id": "294uXFKPwoAy",
        "colab": {
          "base_uri": "https://localhost:8080/",
          "height": 1000
        },
        "outputId": "cd04bd43-c3ce-477b-8ee1-8d2ad049af0f"
      },
      "execution_count": null,
      "outputs": [
        {
          "output_type": "display_data",
          "data": {
            "text/plain": [
              "<Figure size 640x480 with 2 Axes>"
            ],
            "image/png": "[encoded data removed]"
          },
          "metadata": {}
        },
        {
          "output_type": "display_data",
          "data": {
            "text/plain": [
              "<Figure size 640x480 with 2 Axes>"
            ],
            "image/png": "[encoded data removed]"
          },
          "metadata": {}
        },
        {
          "output_type": "display_data",
          "data": {
            "text/plain": [
              "<Figure size 640x480 with 2 Axes>"
            ],
            "image/png": "[encoded data removed]"
          },
          "metadata": {}
        },
        {
          "output_type": "display_data",
          "data": {
            "text/plain": [
              "<Figure size 640x480 with 2 Axes>"
            ],
            "image/png": "[encoded data removed]"
          },
          "metadata": {}
        }
      ]
    }
  ],
  "metadata": {
    "colab": {
      "provenance": []
    },
    "kernelspec": {
      "display_name": "Python 3",
      "name": "python3"
    },
    "language_info": {
      "name": "python"
    }
  },
  "nbformat": 4,
  "nbformat_minor": 0
}